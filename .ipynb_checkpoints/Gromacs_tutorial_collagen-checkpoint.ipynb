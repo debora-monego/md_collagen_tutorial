{
 "cells": [
  {
   "cell_type": "code",
   "execution_count": 2,
   "metadata": {},
   "outputs": [
    {
     "data": {
      "text/html": [
       "<style>\n",
       ".solarized.base03 { color: #002b36; }\n",
       ".solarized.base02 { color: #073642; }\n",
       ".solarized.base01 { color: #586e75; }\n",
       ".solarized.base00 { color: #657b83; }\n",
       ".solarized.base0 { color: #839496; }\n",
       ".solarized.base1 { color: #93a1a1; }\n",
       ".solarized.base2 { color: #eee8d5; }\n",
       ".solarized.base3  { color: #fdf6e3; }\n",
       ".solarized.solar-yellow  { color: #b58900; }\n",
       ".solarized.solar-orange  { color: #cb4b16; }\n",
       ".solarized.solar-red { color: #dc322f; }\n",
       ".solarized.solar-magenta { color: #d33682; }\n",
       ".solarized.solar-violet  { color: #6c71c4; }\n",
       ".solarized.solar-blue { color: #268bd2; }\n",
       ".solarized.solar-cyan { color: #2aa198; }\n",
       ".solarized.solar-green { color: #859900; }\n",
       "\n",
       ".ansiyellow { color: #b58900; }\n",
       ".ansiorange { color: #cb4b16; }\n",
       ".ansired { color: #dc322f; }\n",
       ".ansimagenta { color: #d33682; }\n",
       ".ansiviolet { color: #6c71c4; }\n",
       ".ansiblue { color: #268bd2; }\n",
       ".ansicyan { color: #2aa198; }\n",
       ".ansigreen { color: #859900; }\n",
       "\n",
       ".gromacs.blue {color: #3e3e7f}\n",
       "/* Notebook styling */\n",
       "\n",
       "body, p, div.rendered_html { \n",
       "    color: #3e3e7f;\n",
       "/*    font-family: 'PT Serif', Georgia, Times, 'Times New Roman', serif; */\n",
       "    font-size: 12pt;\n",
       "}\n",
       "\n",
       "body { background-color: #eee8d5 !important; }\n",
       "\n",
       "#notebook { \n",
       "    background-color: #d0d0ff !important;\n",
       "    box-shadow: inset 20px 36px 20px -35px black !important;\n",
       "}\n",
       "\n",
       "/*\n",
       "#maintoolbar { padding-top: 1em; padding-bottom: 1em; }\n",
       "#header { border-color: #93a1a1 !important; }\n",
       "*/\n",
       "/* Pager */\n",
       "\n",
       "#pager_splitter { background: none !important; }\n",
       "#pager {\n",
       "    background-color: #eee8d5;\n",
       "}\n",
       "div#pager pre {\n",
       "    background-color: #fdf6e3;\n",
       "    color: #586e75;\n",
       "}    \n",
       "\n",
       "/* Forms and menus */\n",
       "/*\n",
       ".navbar-default, .navbar-static-top {\n",
       "    background-color: #fdf6e3 !important;\n",
       "    color: #586e75 !important;\n",
       "}\n",
       ".navbar-default { border: none !important; }\n",
       ".navbar-nav > li > a { color: #586e75 !important; }\n",
       ".navbar-nav > li.open > a { background-color: #eee8d5 !important; color: #93a1a1 !important; }\n",
       ".nav > li.active > a { background-color: #eee8d5 !important; color: #586e75 !important; }\n",
       "\n",
       ".dropdown-menu { background-color: #fdf6e3 !important; border: none !important; }\n",
       ".dropdown-menu > li > a { color: #586e75 !important; }\n",
       ".dropdown-menu > li > a:hover { background-color: #eee8d5 !important; }\n",
       ".dropdown-menu > li.disabled > a { color: #93a1a1 !important; }\n",
       "\n",
       "button, .btn-default, .form-control, select {\n",
       "    background-color: #fdf6e3 !important;\n",
       "    color: #586e75 !important;\n",
       "}\n",
       "*/\n",
       "/* Tooltips */\n",
       "\n",
       ".completions {\n",
       "    border: none;\n",
       "    -moz-box-shadow: none;\n",
       "    -webkit-box-shadow: none;\n",
       "    box-shadow: none;\n",
       "    border-radius: 0;\n",
       "    margin-top: 0.5em;\n",
       "}\n",
       ".completions select { font-size: 11pt; }\n",
       "\n",
       ".ipython_tooltip .tooltiptext pre { \n",
       "    font-size: 10pt;\n",
       "    background-color: #eee8d5;\n",
       "    color: #586e75;\n",
       "}\n",
       ".ipython_tooltip {\n",
       "    -moz-box-shadow: none;\n",
       "    -webkit-box-shadow: none;\n",
       "    box-shadow: none;\n",
       "    background-color: #eee8d5;\n",
       "    color: #586e75;\n",
       "}\n",
       ".pretooltiparrow:before {\n",
       "    background-color: #eee8d5;\n",
       "}\n",
       "\n",
       "/* Cell output */\n",
       "\n",
       ".rendered_html pre, .rendered_html code {\n",
       "    color: inherit !important;\n",
       "    background-color: inherit !important;\n",
       "}\n",
       "div.output_area pre {\n",
       "    color: #93a1a1 !important;\n",
       "}\n",
       ".rendered_html table, .rendered_html td, .rendered_html th {\n",
       "    border: 1px solid #586e75 !important;\n",
       "}\n",
       "\n",
       "/* Modal dialogs */\n",
       "\n",
       ".modal-content, .modal-content p {\n",
       "    background-color: #eee8d5 !important;\n",
       "    color: #586e75 !important;\n",
       "}\n",
       "\n",
       "/* Cell styling */\n",
       "\n",
       "div.cell.selected { border-color: #839496 !important; }\n",
       "div.cell.edit_mode { border-color: #268bd2 !important; }\n",
       "div.input_prompt { color: #268bd2 !important; }\n",
       "div.output_prompt { color: #dc322f !important; }\n",
       "div.input_area { border: none !important; background: none !important; }\n",
       "\n",
       ".celltoolbar {\n",
       "    background: #eee8d5 !important;\n",
       "    color: #586e75 !important;\n",
       "}\n",
       "\n",
       "/*    border: 1px solid #002b36 !important;*/\n",
       "/* CodeMirror Styling */\n",
       "/*\n",
       ".cm-s-ipython {\n",
       "    line-height: 1.45em;\n",
       "    color-profile: sRGB;\n",
       "    rendering-intent: auto;\n",
       "    background-color: #002b36;\n",
       "    color: #93a1a1;\n",
       "    text-shadow: none;\n",
       "    border-radius: 4px;\n",
       "}\n",
       "*/\n",
       "/* Cursor */\n",
       "\n",
       ".cm-s-ipython div.CodeMirror-cursor {\n",
       "    border: none;\n",
       "    width: 0.6em;\n",
       "    background-color: rgba(100, 100, 100, 0.5);\n",
       "}\n",
       "\n",
       "/* Gutters */\n",
       "\n",
       "/*\n",
       ".cm-s-ipython .CodeMirror-gutters {\n",
       "  border-right: 1px solid;\n",
       "}\n",
       "\n",
       ".cm-s-ipython .CodeMirror-gutters {\n",
       "  background-color:  #002b36;\n",
       "  border-color: #00232c;\n",
       "}\n",
       "\n",
       ".cm-s-ipython .CodeMirror-linenumber {\n",
       "  text-shadow: #021014 0 -1px;\n",
       "  padding: 0 8px 0 0;\n",
       "  color: #586e75;\n",
       "}\n",
       "*/\n",
       "/*\n",
       ".cm-s-ipython .CodeMirror-guttermarker-subtle { color: #586e75; }\n",
       ".cm-s-ipython .CodeMirror-guttermarker { color: #ddd; }\n",
       "*/\n",
       "/* Syntax highlighting */\n",
       "/*\n",
       ".cm-s-ipython span.cm-keyword { color: #cb4b16 }\n",
       ".cm-s-ipython span.cm-atom { color: #d33682; }\n",
       ".cm-s-ipython span.cm-number { color: #d33682; }\n",
       ".cm-s-ipython span.cm-def { color: #268bd2; font-weight: bold; }\n",
       "\n",
       ".cm-s-ipython span.cm-variable { color: #93a1a1; }\n",
       ".cm-s-ipython span.cm-variable-2 { color: #b58900; }\n",
       ".cm-s-ipython span.cm-variable-3 { color: #6c71c4; }\n",
       "\n",
       ".cm-s-ipython span.cm-property { color: #2aa198; }\n",
       ".cm-s-ipython span.cm-operator {color: #6c71c4;}\n",
       "\n",
       ".cm-s-ipython span.cm-comment { color: #6c71c4; font-style: italic; }\n",
       "\n",
       ".cm-s-ipython span.cm-string { color: #2aa198; }\n",
       ".cm-s-ipython span.cm-string-2 { color: #b58900; }\n",
       "\n",
       ".cm-s-ipython span.cm-meta { color: #859900; }\n",
       ".cm-s-ipython span.cm-qualifier { color: #b58900; }\n",
       ".cm-s-ipython span.cm-builtin { color: #859900; }\n",
       ".cm-s-ipython span.cm-bracket { color: #cb4b16; }\n",
       ".cm-s-ipython .CodeMirror-matchingbracket { color: #b58900 !important; font-weight: bold; }\n",
       ".cm-s-ipython .CodeMirror-nonmatchingbracket { color: #dc322f; }\n",
       ".cm-s-ipython span.cm-tag { color: #93a1a1 }\n",
       ".cm-s-ipython span.cm-attribute {  color: #2aa198; }\n",
       ".cm-s-ipython span.cm-header { color: #586e75; }\n",
       ".cm-s-ipython span.cm-quote { color: #93a1a1; }\n",
       ".cm-s-ipython span.cm-hr {\n",
       "  color: transparent;\n",
       "  border-top: 1px solid #080e05;\n",
       "  display: block;\n",
       "}\n",
       ".cm-s-ipython span.cm-link { color: #93a1a1; cursor: pointer; }\n",
       ".cm-s-ipython span.cm-special { color: #6c71c4; }\n",
       ".cm-s-ipython span.cm-em {\n",
       "  color: #999;\n",
       "  text-decoration: underline;\n",
       "  text-decoration-style: dotted;\n",
       "}\n",
       ".cm-s-ipython span.cm-strong { color: #eee; }\n",
       ".cm-s-ipython span.cm-error,\n",
       ".cm-s-ipython span.cm-invalidchar {\n",
       "  color: #586e75;\n",
       "  border-bottom: 1px dotted #dc322f;\n",
       "}\n",
       "*/\n",
       "</style>\n"
      ],
      "text/plain": [
       "<IPython.core.display.HTML object>"
      ]
     },
     "metadata": {},
     "output_type": "display_data"
    },
    {
     "name": "stdout",
     "output_type": "stream",
     "text": [
      "This notebook requires nglview. Use e.g. pip install nglview, then restart this notebook\n",
      "Notebook has been modified\n"
     ]
    }
   ],
   "source": [
    "# Execute this first \n",
    "#\n",
    "#  * trigger notebook styling\n",
    "#  * check if notebook had been modified since its distribution\n",
    "# \n",
    "# Note: executing any cells before this modifies the notebook.\n",
    "# \n",
    "%run src/init_notebooks.py\n",
    "hide_toggle()\n",
    "check_notebook()"
   ]
  },
  {
   "cell_type": "markdown",
   "metadata": {},
   "source": [
    "# Molecular dynamics simulation of collagen molecule using GROMACS"
   ]
  },
  {
   "cell_type": "markdown",
   "metadata": {},
   "source": [
    "# Preparing to run this notebook:"
   ]
  },
  {
   "cell_type": "code",
   "execution_count": null,
   "metadata": {},
   "outputs": [],
   "source": [
    "# Change to the data directory\n",
    "# Note that executing this command twice will result in an error you can ignore\n",
    "%cd data"
   ]
  },
  {
   "cell_type": "markdown",
   "metadata": {},
   "source": [
    "# Obtaining the input for a simulation"
   ]
  },
  {
   "cell_type": "markdown",
   "metadata": {},
   "source": [
    "The starting point for a molecular dynamics simulation is a file containing the molecular structure to be studied. For this tutorial, we will be looking at a human collagen molecule. The 3D structure is available from https://colbuilder.h-its.org/. You can download the PDB structure directly from this website. You will also find the PDB file for the crystal structure in \"input\" directory as \"Homo_sapiens_aln_N_NOCROSS_C_NOCROSS.pdb\"."
   ]
  },
  {
   "cell_type": "markdown",
   "metadata": {},
   "source": [
    "Before preparint the structure for our simulation, let's have a look at what this molecule looks like! (You can also use a softwared like VMD to look at this structure in your local machine.)"
   ]
  },
  {
   "cell_type": "code",
   "execution_count": null,
   "metadata": {},
   "outputs": [],
   "source": [
    "import nglview as ng\n",
    "view = ng.show_structure_file(\"input/Homo_sapiens_aln_N_NOCROSS_C_NOCROSS.pdb\")\n",
    "view\n",
    "# click and drag to rotate, zoom with your mouseweel \n",
    "# for more infor on this viewer have a look at https://github.com/nglviewer/nglview"
   ]
  },
  {
   "cell_type": "markdown",
   "metadata": {},
   "source": [
    "## Generating a GROMACS input files"
   ]
  },
  {
   "cell_type": "markdown",
   "metadata": {},
   "source": [
    "GROMACS cannot read pdb files directly, so before starting our molecular dynamics simulation, we need to convert the structure we have to GROMACS-readable input files. To learn more about formats accepted by GROMACS check: <a href=http://manual.gromacs.org/current/index.html> GROMACS documentation</a>. \n",
    "\n",
    "The first GROMACS tool we use for that purpose is pdb2gmx. The purpose of pdb2gmx is to generate three files:\n",
    "\n",
    "* The topology for the molecule (topol_structurename.top) contains all the information necessary to define the molecule within a simulation, including nonbonded parameters (atoms types and charges) as well as bonded parameters (bonds, angles, dihedrals, and atom connectivity).\n",
    "* A position restraint file (files.itp) containing additional topology information (can be called into the main topology file using the option #include)\n",
    "* A post-processed structure file (structurename.gro) containing information about the atoms in the systems such as type and xyz coordinates.\n"
   ]
  },
  {
   "cell_type": "markdown",
   "metadata": {},
   "source": [
    "Execute pdb2gmx by issuing the following command:"
   ]
  },
  {
   "cell_type": "code",
   "execution_count": null,
   "metadata": {},
   "outputs": [],
   "source": [
    "!gmx pdb2gmx -f Homo_sapiens_aln_N_NOCROSS_C_NOCROSS.pdb -o Homo_sapiens_aln_N_NOCROSS_C_NOCROSS.gro -ignh -water tip3p -ff \"charmm27\""
   ]
  },
  {
   "cell_type": "markdown",
   "metadata": {},
   "source": [
    "Here, we made an important decision for the course of the simulation by choosing the CHARMM27 all-atom force field. The force field will contain the information that will be written to the topology. As such, this is a very important choice! You should always read thoroughly about each force field and decide which is most applicable to your situation. Other choices are given when running pdb2gmx without the -ff flag:"
   ]
  },
  {
   "cell_type": "markdown",
   "metadata": {},
   "source": [
    "    Select the Force Field:\n",
    "    From '/usr/local/gromacs/share/gromacs/top':\n",
    "     1: AMBER03 protein, nucleic AMBER94 (Duan et al., J. Comp. Chem. 24, 1999-2012, 2003)\n",
    "     2: AMBER94 force field (Cornell et al., JACS 117, 5179-5197, 1995)\n",
    "     3: AMBER96 protein, nucleic AMBER94 (Kollman et al., Acc. Chem. Res. 29, 461-469, 1996)\n",
    "     4: AMBER99 protein, nucleic AMBER94 (Wang et al., J. Comp. Chem. 21, 1049-1074, 2000)\n",
    "     5: AMBER99SB protein, nucleic AMBER94 (Hornak et al., Proteins 65, 712-725, 2006)\n",
    "     6: AMBER99SB-ILDN protein, nucleic AMBER94 (Lindorff-Larsen et al., Proteins 78, 1950-58, 2010)\n",
    "     7: AMBERGS force field (Garcia & Sanbonmatsu, PNAS 99, 2782-2787, 2002)\n",
    "     8: CHARMM27 all-atom force field (CHARM22 plus CMAP for proteins)\n",
    "     9: GROMOS96 43a1 force field\n",
    "    10: GROMOS96 43a2 force field (improved alkane dihedrals)\n",
    "    11: GROMOS96 45a3 force field (Schuler JCC 2001 22 1205)\n",
    "    12: GROMOS96 53a5 force field (JCC 2004 vol 25 pag 1656)\n",
    "    13: GROMOS96 53a6 force field (JCC 2004 vol 25 pag 1656)\n",
    "    14: GROMOS96 54a7 force field (Eur. Biophys. J. (2011), 40,, 843-856, DOI: 10.1007/s00249-011-0700-9)\n",
    "    15: OPLS-AA/L all-atom force field (2001 aminoacid dihedrals)"
   ]
  },
  {
   "cell_type": "markdown",
   "metadata": {},
   "source": [
    "There are many other options that can be passed to pdb2gmx (see http://manual.gromacs.org/documentation/current/onlinehelp/gmx-pdb2gmx.html). Some commonly used ones are listed here:\n",
    "\n",
    "| Option | Effect |\n",
    "|--------|--------\n",
    "|-water  | Water model to use: none, spc, spce, tip3p, tip4p, tip5p, tips3p.|\n",
    "|-ignh   | Ignore H atoms in the PDB file; especially useful for NMR structures. Otherwise, if H atoms are present, they must be in the named exactly how the force fields in GROMACS expect them to be. Different conventions exist, so dealing with H atoms can occasionally be a headache! If you need to preserve the initial H coordinates, but renaming is required, then the Linux sed command is your friend.|\n",
    "|-ter    | Interactively assign charge states for N- and C-termini.|\n",
    "|-inter  | Interactively assign charge states for Glu, Asp, Lys, Arg, and His; choose which Cys are involved in disulfide bonds.|"
   ]
  },
  {
   "cell_type": "markdown",
   "metadata": {},
   "source": [
    "### Let's have a look at the files generated!"
   ]
  },
  {
   "cell_type": "code",
   "execution_count": null,
   "metadata": {},
   "outputs": [],
   "source": [
    "!ls"
   ]
  },
  {
   "cell_type": "markdown",
   "metadata": {},
   "source": [
    "You have now generated three new files: Homo_sapiens_aln_N_NOCROSS_C_NOCROSS.gro, topol_Homo_sapiens_aln_N_NOCROSS_C_NOCROSS.top, topol_Protein_chain_X.itp and posre_Protein_chain_X.itp. 1fjs_processed.gro is a GROMACS-formatted structure file that contains all the atoms defined within the force field (i.e., H atoms have been added to the amino acids in the protein). The topol_Homo_sapiens_aln_N_NOCROSS_C_NOCROSS.top file is the system topology (more on this in a minute). The posre files contain information used to restrain the positions of heavy atoms (more on this later)."
   ]
  },
  {
   "cell_type": "markdown",
   "metadata": {},
   "source": [
    "## What is the role of the \"topology\" files?"
   ]
  },
  {
   "cell_type": "markdown",
   "metadata": {},
   "source": [
    "Let's look at what is in the output topology (topol_Homo_sapiens_aln_N_NOCROSS_C_NOCROSS.top). Again, we can use a plain text editor to inspect its contents. Here we use the shell command cat to print the contents of the file:\n",
    "\n",
    "Note that comment lines are preceded by `;`."
   ]
  },
  {
   "cell_type": "code",
   "execution_count": 2,
   "metadata": {},
   "outputs": [
    {
     "name": "stdout",
     "output_type": "stream",
     "text": [
      "cat: topol_topol_Homo_sapiens_aln_N_NOCROSS_C_NOCROSS.top: No such file or directory\n"
     ]
    }
   ],
   "source": [
    "!cat topol_topol_Homo_sapiens_aln_N_NOCROSS_C_NOCROSS.top"
   ]
  },
  {
   "cell_type": "markdown",
   "metadata": {},
   "source": [
    "The first line after the commented lines calls the parameters within the choosen force field. It is at the beginning of the file, indicating that all subsequent parameters are derived from this force field.  Then next important line is [ moleculetype ], that you find in  "
   ]
  },
  {
   "cell_type": "code",
   "execution_count": null,
   "metadata": {},
   "outputs": [],
   "source": [
    "!grep \"moleculetype\" -A 3 topol_Protein_chain_A.itp"
   ]
  },
  {
   "cell_type": "markdown",
   "metadata": {},
   "source": [
    "and"
   ]
  },
  {
   "cell_type": "code",
   "execution_count": null,
   "metadata": {},
   "outputs": [],
   "source": [
    "!grep \"moleculetype\" -A 3 topol_Protein_chain_L.itp"
   ]
  },
  {
   "cell_type": "code",
   "execution_count": null,
   "metadata": {},
   "outputs": [],
   "source": []
  }
 ],
 "metadata": {
  "kernelspec": {
   "display_name": "Python 3 (ipykernel)",
   "language": "python",
   "name": "python3"
  },
  "language_info": {
   "codemirror_mode": {
    "name": "ipython",
    "version": 3
   },
   "file_extension": ".py",
   "mimetype": "text/x-python",
   "name": "python",
   "nbconvert_exporter": "python",
   "pygments_lexer": "ipython3",
   "version": "3.8.10"
  }
 },
 "nbformat": 4,
 "nbformat_minor": 5
}
