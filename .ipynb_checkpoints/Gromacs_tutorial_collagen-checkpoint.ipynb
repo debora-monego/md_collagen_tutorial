{
 "cells": [
  {
   "cell_type": "code",
   "execution_count": null,
   "id": "af9db33f-6c7f-4bcc-a8a9-816ea6911813",
   "metadata": {},
   "outputs": [],
   "source": [
    "# Execute this first \n",
    "#\n",
    "#  * trigger notebook styling\n",
    "#  * check if notebook had been modified since its distribution\n",
    "# \n",
    "# Note: executing any cells before this modifies the notebook.\n",
    "# \n",
    "%run src/init_notebooks.py\n",
    "hide_toggle()\n",
    "check_notebook()"
   ]
  },
  {
   "cell_type": "markdown",
   "id": "3b247efb-84ae-47f6-87a4-ef1a100a02e3",
   "metadata": {},
   "source": [
    "# Molecular dynamics simulation of collagen structure using GROMACS"
   ]
  },
  {
   "cell_type": "markdown",
   "id": "75648a63-c6ac-4fe4-91df-cd69af097f81",
   "metadata": {},
   "source": [
    "# Preparing to run this notebook:"
   ]
  },
  {
   "cell_type": "code",
   "execution_count": null,
   "id": "5cca571c-cdde-4e5a-8609-c84450af9ab6",
   "metadata": {},
   "outputs": [],
   "source": [
    "# Change to the data directory\n",
    "# Note that executing this command twice will result in an error you can ignore\n",
    "%cd data"
   ]
  },
  {
   "cell_type": "markdown",
   "id": "a8024118-c7f2-496d-89fc-339cf566f615",
   "metadata": {},
   "source": [
    "# Obtaining the input for a simulation"
   ]
  },
  {
   "cell_type": "markdown",
   "id": "e4215205-2e9b-4026-bf25-9a68690ec661",
   "metadata": {},
   "source": [
    "The starting point for a molecular dynamics simulation is a file containing the molecular structure to be studies. For this tutorial, we will be looking at a collagen model. The 3D structure is available from https://colbuilder.h-its.org/. You can find the PDB file for the crystal structure in \"input\" directory as \"Homo_sapiens_aln_N_NOCROSS_C_NOCROSS.pdb\"."
   ]
  },
  {
   "cell_type": "markdown",
   "id": "ff80622b-c418-4365-92b3-d2ef50bb287a",
   "metadata": {},
   "source": [
    "Let's visualise the structure of this molecule!"
   ]
  },
  {
   "cell_type": "code",
   "execution_count": null,
   "id": "df39e0bd-9c9c-450d-82fa-4ff7f0fe3456",
   "metadata": {},
   "outputs": [],
   "source": [
    "import nglview as ng\n",
    "view = ng.show_structure_file(\"input/Homo_sapiens_aln_N_NOCROSS_C_NOCROSS.pdb\")\n",
    "view\n",
    "# click and drag to rotate, zoom with your mouseweel \n",
    "# for more infor on this viewer have a look at https://github.com/nglviewer/nglview"
   ]
  },
  {
   "cell_type": "markdown",
   "id": "4a036bf0-fc36-43e5-b192-d862cb9bef63",
   "metadata": {},
   "source": [
    "## Generating a GROMACS input files"
   ]
  },
  {
   "cell_type": "markdown",
   "id": "276356f1-3ec3-44b1-879d-680b37a3d5d3",
   "metadata": {},
   "source": [
    "GROMACS cannot read pdb files directly, so we need to convert the structure we have to GROMACS input files. To learn more about formats accepted by GROMACS check: <a href=http://manual.gromacs.org/current/index.html> GROMACS documentation</a>. \n",
    "\n",
    "The first GROMACS tool, we use, is pdb2gmx. The purpose of pdb2gmx is to generate three files:\n",
    "\n",
    "* The topology for the molecule (topol.top) contains all the information necessary to define the molecule within a simulation, including nonbonded parameters (atoms types and charges) as well as bonded parameters (bonds, angles, dihedrals, and atom connectivity).\n",
    "* A position restraint file (files.itp) containing additional topology information (can be called into the main topology file using the option #include)\n",
    "* A post-processed structure file (structure.gro) containing information about the atoms in the systems such as type and xyz coordinates.\n"
   ]
  },
  {
   "cell_type": "markdown",
   "id": "aa65f69d-425a-42b3-90ef-befd71c8e2ac",
   "metadata": {},
   "source": [
    "Execute pdb2gmx by issuing the following command:"
   ]
  },
  {
   "cell_type": "code",
   "execution_count": null,
   "id": "76b1e51c-0d65-4b7b-ade1-cc1ca2610c15",
   "metadata": {},
   "outputs": [],
   "source": [
    "!gmx pdb2gmx -f Homo_sapiens_aln_N_NOCROSS_C_NOCROSS.pdb -o Homo_sapiens_aln_N_NOCROSS_C_NOCROSS.gro -ignh -water tip3p -ff \"charmm27\""
   ]
  },
  {
   "cell_type": "markdown",
   "id": "5038d638-b9c5-4628-8243-e97dfea0edaf",
   "metadata": {},
   "source": [
    "Here, we made an important decision for the course of the simualtion in choosing the CHARMM27 all-atom force field. The force field will contain the information that will be written to the topology. This is a very important choice! You should always read thoroughly about each force field and decide which is most applicable to your situation. Other choices are given, when running pdb2gmx without the -ff flag"
   ]
  },
  {
   "cell_type": "markdown",
   "id": "ad0f5df0-8e7a-4208-9576-80ff84fca350",
   "metadata": {},
   "source": [
    "    Select the Force Field:\n",
    "    From '/usr/local/gromacs/share/gromacs/top':\n",
    "     1: AMBER03 protein, nucleic AMBER94 (Duan et al., J. Comp. Chem. 24, 1999-2012, 2003)\n",
    "     2: AMBER94 force field (Cornell et al., JACS 117, 5179-5197, 1995)\n",
    "     3: AMBER96 protein, nucleic AMBER94 (Kollman et al., Acc. Chem. Res. 29, 461-469, 1996)\n",
    "     4: AMBER99 protein, nucleic AMBER94 (Wang et al., J. Comp. Chem. 21, 1049-1074, 2000)\n",
    "     5: AMBER99SB protein, nucleic AMBER94 (Hornak et al., Proteins 65, 712-725, 2006)\n",
    "     6: AMBER99SB-ILDN protein, nucleic AMBER94 (Lindorff-Larsen et al., Proteins 78, 1950-58, 2010)\n",
    "     7: AMBERGS force field (Garcia & Sanbonmatsu, PNAS 99, 2782-2787, 2002)\n",
    "     8: CHARMM27 all-atom force field (CHARM22 plus CMAP for proteins)\n",
    "     9: GROMOS96 43a1 force field\n",
    "    10: GROMOS96 43a2 force field (improved alkane dihedrals)\n",
    "    11: GROMOS96 45a3 force field (Schuler JCC 2001 22 1205)\n",
    "    12: GROMOS96 53a5 force field (JCC 2004 vol 25 pag 1656)\n",
    "    13: GROMOS96 53a6 force field (JCC 2004 vol 25 pag 1656)\n",
    "    14: GROMOS96 54a7 force field (Eur. Biophys. J. (2011), 40,, 843-856, DOI: 10.1007/s00249-011-0700-9)\n",
    "    15: OPLS-AA/L all-atom force field (2001 aminoacid dihedrals)"
   ]
  },
  {
   "cell_type": "markdown",
   "id": "49bf4aea-18d1-41ce-917d-4a3342d76ee8",
   "metadata": {},
   "source": [
    "There are many other options that can be passed to pdb2gmx (see http://manual.gromacs.org/documentation/current/onlinehelp/gmx-pdb2gmx.html). Some commonly used ones are listed here:\n",
    "\n",
    "| Option | Effect |\n",
    "|--------|--------\n",
    "|-water  | Water model to use: none, spc, spce, tip3p, tip4p, tip5p, tips3p.|\n",
    "|-ignh   | Ignore H atoms in the PDB file; especially useful for NMR structures. Otherwise, if H atoms are present, they must be in the named exactly how the force fields in GROMACS expect them to be. Different conventions exist, so dealing with H atoms can occasionally be a headache! If you need to preserve the initial H coordinates, but renaming is required, then the Linux sed command is your friend.|\n",
    "|-ter    | Interactively assign charge states for N- and C-termini.|\n",
    "|-inter  | Interactively assign charge states for Glu, Asp, Lys, Arg, and His; choose which Cys are involved in disulfide bonds.|"
   ]
  },
  {
   "cell_type": "markdown",
   "id": "8556cdcd-552a-46e0-ba83-19b6836e2602",
   "metadata": {},
   "source": [
    "### Let's have a look at the files generated!"
   ]
  },
  {
   "cell_type": "code",
   "execution_count": null,
   "id": "1344c4ae-29a0-4115-af47-710de48b2bdd",
   "metadata": {},
   "outputs": [],
   "source": [
    "!ls"
   ]
  },
  {
   "cell_type": "code",
   "execution_count": null,
   "id": "05e5db91-f18f-49cd-a30a-016ddea11c26",
   "metadata": {},
   "outputs": [],
   "source": []
  }
 ],
 "metadata": {
  "kernelspec": {
   "display_name": "Python 3 (ipykernel)",
   "language": "python",
   "name": "python3"
  },
  "language_info": {
   "codemirror_mode": {
    "name": "ipython",
    "version": 3
   },
   "file_extension": ".py",
   "mimetype": "text/x-python",
   "name": "python",
   "nbconvert_exporter": "python",
   "pygments_lexer": "ipython3",
   "version": "3.9.6"
  }
 },
 "nbformat": 4,
 "nbformat_minor": 5
}
